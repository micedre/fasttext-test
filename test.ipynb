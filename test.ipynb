{
 "cells": [
  {
   "cell_type": "code",
   "execution_count": 1,
   "id": "7f08d30e-bbc0-4535-a7f0-3cae3e41897e",
   "metadata": {},
   "outputs": [],
   "source": [
    "# FastText-Style Text Classification with PyTorch\n",
    "\n",
    "# ## 1. Import Required Libraries\n",
    "import torch\n",
    "import torch.nn as nn\n",
    "import torch.optim as optim\n",
    "from torch.utils.data import DataLoader, Dataset\n",
    "from collections import Counter\n",
    "from itertools import chain\n",
    "import re\n"
   ]
  },
  {
   "cell_type": "code",
   "execution_count": 2,
   "id": "d5f09060-1762-4460-ab35-f5130a29881b",
   "metadata": {},
   "outputs": [],
   "source": [
    "\n",
    "# ## 2. Dataset Preparation\n",
    "class FastTextDataset(Dataset):\n",
    "    def __init__(self, texts, labels, vocab=None, ngram_range=(3, 6)):\n",
    "        \"\"\"\n",
    "        Initialize the dataset with texts, labels, and optional vocabulary.\n",
    "        \"\"\"\n",
    "        self.texts = texts\n",
    "        self.labels = labels\n",
    "        self.ngram_range = ngram_range\n",
    "\n",
    "        if vocab is None:\n",
    "            self.vocab, self.label_map = self.build_vocab_and_labels(texts, labels)\n",
    "        else:\n",
    "            self.vocab, self.label_map = vocab\n",
    "\n",
    "        self.encoded_texts = [self.text_to_ngrams(text) for text in texts]\n",
    "        self.encoded_labels = [self.label_map[label] for label in labels]\n",
    "\n",
    "    def build_vocab_and_labels(self, texts, labels):\n",
    "        \"\"\"\n",
    "        Create vocab of n-grams and map labels to indices.\n",
    "        \"\"\"\n",
    "        ngrams = list(chain.from_iterable(self.text_to_ngrams(text) for text in texts))\n",
    "        vocab = {ngram: idx + 1 for idx, ngram in enumerate(set(ngrams))}  # 1-based indexing\n",
    "        vocab[\"<pad>\"] = 0  # Add padding token\n",
    "        label_map = {label: idx for idx, label in enumerate(set(labels))}\n",
    "        return vocab, label_map\n",
    "\n",
    "    def text_to_ngrams(self, text):\n",
    "        \"\"\"\n",
    "        Tokenize text into n-grams.\n",
    "        \"\"\"\n",
    "        tokens = text.split()\n",
    "        ngrams = []\n",
    "        for token in tokens:\n",
    "            token = f\"<{token}>\"\n",
    "            for n in range(self.ngram_range[0], self.ngram_range[1] + 1):\n",
    "                ngrams.extend([token[i : i + n] for i in range(len(token) - n + 1)])\n",
    "        return ngrams\n",
    "\n",
    "    def __len__(self):\n",
    "        return len(self.texts)\n",
    "\n",
    "    def __getitem__(self, idx):\n",
    "        \"\"\"\n",
    "        Get a single data sample.\n",
    "        \"\"\"\n",
    "        text = self.encoded_texts[idx]\n",
    "        label = self.encoded_labels[idx]\n",
    "        return text, label\n",
    "\n",
    "    def collate_fn(self, batch):\n",
    "        \"\"\"\n",
    "        Collate function for padding and batching.\n",
    "        \"\"\"\n",
    "        texts, labels = zip(*batch)\n",
    "        max_length = max(len(text) for text in texts)\n",
    "        padded_texts = [\n",
    "            text + [\"<pad>\"] * (max_length - len(text)) for text in texts\n",
    "        ]\n",
    "        text_indices = torch.tensor(\n",
    "            [[self.vocab.get(ngram, 0) for ngram in text] for text in padded_texts]\n",
    "        )\n",
    "        labels = torch.tensor(labels)\n",
    "        return text_indices, labels\n"
   ]
  },
  {
   "cell_type": "code",
   "execution_count": 3,
   "id": "34c1066e-2c72-4ec8-af5e-60d45b15ae0d",
   "metadata": {},
   "outputs": [],
   "source": [
    "\n",
    "# ## 3. FastText Model\n",
    "class FastTextClassifier(nn.Module):\n",
    "    def __init__(self, vocab_size, embed_dim, num_classes):\n",
    "        super(FastTextClassifier, self).__init__()\n",
    "        self.embedding = nn.Embedding(vocab_size, embed_dim, padding_idx=0)\n",
    "        self.fc = nn.Linear(embed_dim, num_classes)\n",
    "\n",
    "    def forward(self, x):\n",
    "        \"\"\"\n",
    "        Forward pass of the model.\n",
    "        \"\"\"\n",
    "        embedded = self.embedding(x)  # Shape: (batch_size, seq_length, embed_dim)\n",
    "        doc_vector = embedded.mean(dim=1)  # Average over sequence length\n",
    "        output = self.fc(doc_vector)  # Shape: (batch_size, num_classes)\n",
    "        return output\n"
   ]
  },
  {
   "cell_type": "code",
   "execution_count": 10,
   "id": "0ff3d4b3-bdfa-4ea3-ab79-24af4156ce5c",
   "metadata": {},
   "outputs": [
    {
     "name": "stdout",
     "output_type": "stream",
     "text": [
      "Epoch 1/20, Loss: 2.1027\n",
      "Epoch 2/20, Loss: 2.0600\n",
      "Epoch 3/20, Loss: 2.0535\n",
      "Epoch 4/20, Loss: 2.0179\n",
      "Epoch 5/20, Loss: 1.9871\n",
      "Epoch 6/20, Loss: 1.9602\n",
      "Epoch 7/20, Loss: 1.9044\n",
      "Epoch 8/20, Loss: 1.9049\n",
      "Epoch 9/20, Loss: 1.8511\n",
      "Epoch 10/20, Loss: 1.8323\n",
      "Epoch 11/20, Loss: 1.8591\n",
      "Epoch 12/20, Loss: 1.8234\n",
      "Epoch 13/20, Loss: 1.7356\n",
      "Epoch 14/20, Loss: 1.7888\n",
      "Epoch 15/20, Loss: 1.7113\n",
      "Epoch 16/20, Loss: 1.6873\n",
      "Epoch 17/20, Loss: 1.6423\n",
      "Epoch 18/20, Loss: 1.6057\n",
      "Epoch 19/20, Loss: 1.5728\n",
      "Epoch 20/20, Loss: 1.6442\n"
     ]
    }
   ],
   "source": [
    "\n",
    "# ## 4. Training the Model\n",
    "# Sample data\n",
    "texts = [\n",
    "    \"I loved the movie\",\n",
    "    \"The plot was dull\",\n",
    "    \"Amazing direction and acting\",\n",
    "    \"Waste of my time\",\n",
    "    \"Outstanding performances\",\n",
    "    \"Awful performance\"\n",
    "]\n",
    "labels = [\"positive\", \"negative\", \"positive\", \"negative\", \"positive\",\"negative]\n",
    "\n",
    "# Prepare dataset and DataLoader\n",
    "dataset = FastTextDataset(texts, labels)\n",
    "dataloader = DataLoader(\n",
    "    dataset, batch_size=2, shuffle=True, collate_fn=dataset.collate_fn\n",
    ")\n",
    "\n",
    "# Model parameters\n",
    "vocab_size = len(dataset.vocab)\n",
    "embed_dim = 100\n",
    "num_classes = len(dataset.label_map)\n",
    "\n",
    "# Initialize model, loss function, and optimizer\n",
    "model = FastTextClassifier(vocab_size, embed_dim, num_classes)\n",
    "criterion = nn.CrossEntropyLoss()\n",
    "optimizer = optim.Adam(model.parameters(), lr=0.001)\n",
    "\n",
    "# Training loop\n",
    "num_epochs = 5\n",
    "for epoch in range(num_epochs):\n",
    "    model.train()\n",
    "    epoch_loss = 0\n",
    "    for batch in dataloader:\n",
    "        texts, labels = batch\n",
    "        optimizer.zero_grad()\n",
    "        outputs = model(texts)\n",
    "        loss = criterion(outputs, labels)\n",
    "        loss.backward()\n",
    "        optimizer.step()\n",
    "        epoch_loss += loss.item()\n",
    "    print(f\"Epoch {epoch + 1}/{num_epochs}, Loss: {epoch_loss:.4f}\")\n"
   ]
  },
  {
   "cell_type": "code",
   "execution_count": 11,
   "id": "3abc1301-7d17-4770-9740-326c8385d487",
   "metadata": {},
   "outputs": [],
   "source": [
    "# ## 5. Testing and Predictions\n",
    "def predict(text, model, dataset):\n",
    "    model.eval()\n",
    "    text_ngrams = dataset.text_to_ngrams(text)\n",
    "    text_indices = torch.tensor([[dataset.vocab.get(ngram, 0) for ngram in text_ngrams]])\n",
    "    with torch.no_grad():\n",
    "        outputs = model(text_indices)\n",
    "        predicted_label = outputs.argmax(dim=1).item()\n",
    "        return list(dataset.label_map.keys())[predicted_label]\n"
   ]
  },
  {
   "cell_type": "code",
   "execution_count": 13,
   "id": "df4b62d5-140f-4140-a0c8-f47f81b76123",
   "metadata": {},
   "outputs": [
    {
     "name": "stdout",
     "output_type": "stream",
     "text": [
      "Predicted sentiment: positive\n"
     ]
    }
   ],
   "source": [
    "\n",
    "# Example\n",
    "test_text = \"The direction was dull\"\n",
    "predicted_sentiment = predict(test_text, model, dataset)\n",
    "print(f\"Predicted sentiment: {predicted_sentiment}\")\n",
    "\n"
   ]
  },
  {
   "cell_type": "code",
   "execution_count": 4,
   "id": "5a0b046e-b52a-4045-abaa-e2e830e088ed",
   "metadata": {},
   "outputs": [
    {
     "data": {
      "text/plain": [
       "0    560000\n",
       "1    560000\n",
       "2    560000\n",
       "dtype: int64"
      ]
     },
     "execution_count": 4,
     "metadata": {},
     "output_type": "execute_result"
    }
   ],
   "source": [
    "import pandas as pd\n",
    "\n",
    "df_train = pd.read_csv('dbpedia_train.csv',header=None)\n",
    "df_train.count()"
   ]
  },
  {
   "cell_type": "code",
   "execution_count": null,
   "id": "6e958981-a4fe-4768-a2f5-2a31c1161f94",
   "metadata": {},
   "outputs": [
    {
     "name": "stdout",
     "output_type": "stream",
     "text": [
      "4008733\n"
     ]
    }
   ],
   "source": [
    "texts=df_train[2]\n",
    "labels=df_train[0]\n",
    "\n",
    "dataset = FastTextDataset(texts, labels)\n",
    "\n",
    "dataloader = DataLoader(\n",
    "    dataset, batch_size=50000, shuffle=True, collate_fn=dataset.collate_fn\n",
    ")\n",
    "\n",
    "\n",
    "# Model parameters\n",
    "vocab_size = len(dataset.vocab)\n",
    "print(vocab_size)\n",
    "embed_dim = 100\n",
    "num_classes = len(dataset.label_map)\n",
    "\n",
    "# Initialize model, loss function, and optimizer\n",
    "model = FastTextClassifier(vocab_size, embed_dim, num_classes)\n",
    "criterion = nn.CrossEntropyLoss()\n",
    "optimizer = optim.Adam(model.parameters(), lr=0.001)\n",
    "\n",
    "# Training loop\n",
    "num_epochs = 1\n",
    "for epoch in range(num_epochs):\n",
    "    model.train()\n",
    "    epoch_loss = 0\n",
    "    for batch in dataloader:\n",
    "        texts, labels = batch\n",
    "        optimizer.zero_grad()\n",
    "        outputs = model(texts)\n",
    "        loss = criterion(outputs, labels)\n",
    "        loss.backward()\n",
    "        optimizer.step()\n",
    "        epoch_loss += loss.item()\n",
    "    print(f\"Epoch {epoch + 1}/{num_epochs}, Loss: {epoch_loss:.4f}\")"
   ]
  }
 ],
 "metadata": {
  "kernelspec": {
   "display_name": "Python 3 (ipykernel)",
   "language": "python",
   "name": "python3"
  },
  "language_info": {
   "codemirror_mode": {
    "name": "ipython",
    "version": 3
   },
   "file_extension": ".py",
   "mimetype": "text/x-python",
   "name": "python",
   "nbconvert_exporter": "python",
   "pygments_lexer": "ipython3",
   "version": "3.12.6"
  }
 },
 "nbformat": 4,
 "nbformat_minor": 5
}
